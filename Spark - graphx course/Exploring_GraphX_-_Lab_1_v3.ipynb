{
 "cells": [
  {
   "cell_type": "markdown",
   "metadata": {},
   "source": [
    "<div class=\"alert alert-block alert-info\" style=\"margin-top: 20px\">\n",
    "    <a href=\"https://cocl.us/exploring_spark_graphX\">\n",
    "         <img src=\"https://s3-api.us-geo.objectstorage.softlayer.net/cf-courses-data/CognitiveClass/BD0223EN/Ad/TopAd.png\" width=\"750\" align=\"center\">\n",
    "    </a>\n",
    "</div>"
   ]
  },
  {
   "cell_type": "markdown",
   "metadata": {},
   "source": [
    "<a href=\"https://cognitiveclass.ai/\">\n",
    "    <img src=\"https://s3-api.us-geo.objectstorage.softlayer.net/cf-courses-data/CognitiveClass/BD0223EN/Ad/CCLog.png\" width=\"200\" align=\"center\">\n",
    "</a>"
   ]
  },
  {
   "cell_type": "markdown",
   "metadata": {},
   "source": [
    "# <center>Exploring GraphX</center>\n",
    "## <center>Introduction to Graph-Parallel</center>"
   ]
  },
  {
   "cell_type": "markdown",
   "metadata": {},
   "source": [
    "<img src=\"http://spark.apache.org/docs/latest/img/graphx_logo.png\" width=300/>"
   ]
  },
  {
   "cell_type": "markdown",
   "metadata": {},
   "source": [
    "## Welcome to the first lab in the course, Exploring GraphX.\n",
    "\n",
    "### GraphX is Apache Spark's API for graph and graph-parallel computations.\n",
    "\n",
    "In this lab exercise, you will learn about the GraphX library and how to build a simple multi directed graph with Scala. We will also explore a few classes of GraphX and dicuss a little about their importance to GraphX."
   ]
  },
  {
   "cell_type": "markdown",
   "metadata": {},
   "source": [
    "### Some Notebook Commands\n",
    "#### In case you haven't dealt with a JupyterLab before, here are some quick, useful commands that may be handy to get started.\n",
    "<ul>\n",
    "    <li>Run a cell: CTRL + ENTER</li>\n",
    "    <li>Create a cell above a cell: a</li>\n",
    "    <li>Create a cell below a cell: b</li>\n",
    "    <li>Change a cell to Markdown: m</li>\n",
    "    \n",
    "    <li>Change a cell to code: y</li>\n",
    "</ul>\n",
    "\n",
    "<b> If you are interested in more keyboard shortcuts, go to Help -> Keyboard Shortcuts </b>"
   ]
  },
  {
   "cell_type": "markdown",
   "metadata": {},
   "source": [
    "Hello! First before we start creating our graph, we will need to the import the following libraries:\n",
    "\n",
    "- org.apache.spark._ \n",
    "- org.apache.spark.graphx._\n",
    "- org.apache.spark.rdd.RDD "
   ]
  },
  {
   "cell_type": "code",
   "execution_count": null,
   "metadata": {
    "collapsed": false
   },
   "outputs": [],
   "source": [
    "// Type your code here"
   ]
  },
  {
   "cell_type": "markdown",
   "metadata": {},
   "source": [
    "Double-click __here__ for the solution.\n",
    "\n",
    "<!-- Your answer is below:\n",
    "import org.apache.spark._\n",
    "import org.apache.spark.graphx._\n",
    "import org.apache.spark.rdd.RDD\n",
    "-->"
   ]
  },
  {
   "cell_type": "markdown",
   "metadata": {},
   "source": [
    "Now to begin, as a reminder, we have a SparkContext called <code>sc</code>."
   ]
  },
  {
   "cell_type": "markdown",
   "metadata": {},
   "source": [
    "Now next we will create the \"Vertices\" of our graph. Let's try to make it a simple, easy-to-relate graph. Let's use \"Facebook\" as an example. We will create an Array called <code>facebook_vertices</code> that consists of 3 people and 2 pages."
   ]
  },
  {
   "cell_type": "code",
   "execution_count": null,
   "metadata": {
    "collapsed": false
   },
   "outputs": [],
   "source": [
    "val facebook_vertices = Array((1L, (\"Billy Bill\", \"Person\")), (2L, (\"Jacob Johnson\", \"Person\")), (3L, (\"Andrew Smith\", \"Person\")), (4L, (\"Iron Man Fan Page\", \"Page\")), (5L, (\"Captain America Fan Page\", \"Page\")))"
   ]
  },
  {
   "cell_type": "markdown",
   "metadata": {},
   "source": [
    "Here, we are just making a simple array that has 3 People: \n",
    "- Billy Bill\n",
    "- Jacob Johnson\n",
    "- Andrew Smith\n",
    "\n",
    "and 2 Pages:\n",
    "\n",
    "- Iron Man Fan Page\n",
    "- Captain America Fan Page\n",
    "\n",
    "These will become our vertices later on. Vertices carry an identifier (1L, 2L, 3L, ...) and user-defined attributes such as \"Person\" or \"Page\"."
   ]
  },
  {
   "cell_type": "markdown",
   "metadata": {},
   "source": [
    "Next, we will create the relationships of each one of them. The variable relationships will become the \"Edges\" of our graph."
   ]
  },
  {
   "cell_type": "code",
   "execution_count": null,
   "metadata": {
    "collapsed": false
   },
   "outputs": [],
   "source": [
    "val relationships = Array(Edge(1L, 2L, \"Friends\"), Edge(1L, 3L, \"Friends\"), Edge(2L, 4L, \"Follower\"), Edge(2L, 5L, \"Follower\"), Edge(3L, 5L, \"Follower\"))"
   ]
  },
  {
   "cell_type": "markdown",
   "metadata": {},
   "source": [
    "Now we have created another Array called relationships that are Edges, with attributes of the srcId (Source ID), dstId (Destination ID). These are the following relationships that we created:\n",
    "\n",
    "- Billy is Friends with Jacob\n",
    "- Billy is Friends with Andrew\n",
    "- Jacob is a Follower of the Iron Man Fan Page\n",
    "- Jacob is a Follower of the the Captain America Fan Page\n",
    "- Andrew is a Follower of the the Captain America Fan Page"
   ]
  },
  {
   "cell_type": "markdown",
   "metadata": {},
   "source": [
    "Now we have our Vertices <code>facebook_vertices</code> and Edges <code>relationships</code>. However, they are just Arrays. When we create our Graph, these variables need to be RDDs. To create RDDs, we will use the parallelize function of SparkContext <code>sc</code>. We will also have to make sure that the correct types are labeled in type format."
   ]
  },
  {
   "cell_type": "code",
   "execution_count": null,
   "metadata": {
    "collapsed": false
   },
   "outputs": [],
   "source": [
    "val vertexRDD: RDD[(Long, (String, String))] = sc.parallelize(facebook_vertices)\n",
    "val edgeRDD: RDD[Edge[String]] = sc.parallelize(relationships)"
   ]
  },
  {
   "cell_type": "markdown",
   "metadata": {},
   "source": [
    "Now we have our Vertices and Edges in proper format, but before we define our graph we just need to define one user - which will be \"fallback\" user. This user will be defaulty connected to any edges that lead to a non-existant Vertex. Let's called it \"Self\" - since you can be friends with \"Yourself\" and have a page that follows \"Itself.\""
   ]
  },
  {
   "cell_type": "code",
   "execution_count": null,
   "metadata": {
    "collapsed": true
   },
   "outputs": [],
   "source": [
    "val defaultvertex = (\"Self\", \"Missing\")"
   ]
  },
  {
   "cell_type": "markdown",
   "metadata": {},
   "source": [
    "This variable is just a tuple. Now we can move onto creating our Graph. We will create a variable called facebook which will be our instantiate of Graph with 3 variables - <code>vertexRDD</code>, <code>edgeRDD</code>, and <code>defaultvertex</code>."
   ]
  },
  {
   "cell_type": "code",
   "execution_count": null,
   "metadata": {
    "collapsed": true
   },
   "outputs": [],
   "source": [
    "val facebook = Graph(vertexRDD, edgeRDD, defaultvertex)"
   ]
  },
  {
   "cell_type": "markdown",
   "metadata": {},
   "source": [
    "Double-click __here__ for the solution.\n",
    "\n",
    "<!-- Your answer is below:\n",
    "val facebook = Graph(vertexRDD, edgeRDD, defaultvertex)\n",
    "-->"
   ]
  },
  {
   "cell_type": "markdown",
   "metadata": {},
   "source": [
    "Here's a visual representation created by me to show what the graph should look like:\n",
    "\n",
    "<img src = \"http://i.imgur.com/rhkiopM.png\">"
   ]
  },
  {
   "cell_type": "markdown",
   "metadata": {},
   "source": [
    "We did it! We made facebook! (multi-directional graph representing facebook :) ). Now the Graph we created has some interesting components that it has made from our parameters. Let's try printing out the vertices component of facebook."
   ]
  },
  {
   "cell_type": "code",
   "execution_count": null,
   "metadata": {
    "collapsed": false,
    "scrolled": true
   },
   "outputs": [],
   "source": [
    "// Type your code here"
   ]
  },
  {
   "cell_type": "markdown",
   "metadata": {},
   "source": [
    "Double-click __here__ for the solution.\n",
    "\n",
    "<!-- Your answer is below:\n",
    "print(facebook.vertices)\n",
    "-->"
   ]
  },
  {
   "cell_type": "markdown",
   "metadata": {},
   "source": [
    "This is the vertices of our of graph. You can do the same for Edges by using the edges components. Try printing it out!"
   ]
  },
  {
   "cell_type": "code",
   "execution_count": null,
   "metadata": {
    "collapsed": false
   },
   "outputs": [],
   "source": [
    "// Type your code here"
   ]
  },
  {
   "cell_type": "markdown",
   "metadata": {},
   "source": [
    "Double-click __here__ for the solution.\n",
    "\n",
    "<!-- Your answer is below:\n",
    "print(facebook.edges)\n",
    "-->"
   ]
  },
  {
   "cell_type": "markdown",
   "metadata": {},
   "source": [
    "Now, what's so important about these two components? You can use them to create views of their respective components of the graph! However, they are slightly different from each other, so we will take a look at vertices first!\n",
    "\n",
    "So right now vertices is called as a whole, so we will need to separate the results we want using the filter function. Then we will make cases for each attribute and then define a condition to be met."
   ]
  },
  {
   "cell_type": "code",
   "execution_count": null,
   "metadata": {
    "collapsed": false
   },
   "outputs": [],
   "source": [
    "facebook.vertices.filter { case (id, (name, user_type)) => user_type == \"Person\" }.count"
   ]
  },
  {
   "cell_type": "markdown",
   "metadata": {},
   "source": [
    "As you can see, we used the filter function, defined the attributes of the vertex then made a condition that only selects a \"Person\" in our graph. We counted this to produce a result of 3, which matches the 3 vertices (people) in our graph. However, we could have easily have replaced the count function with a collect and have dealt with it as a tuple and used for loops to print out a each person. \n",
    "\n",
    "Now let's try the same with Edges except it only has one defined case variable, which is the edge itself. However, the Edge class has attributes such as srcId (sourceID), dstId (destinationID), and attr (Attribute) which stores the edge property.\n",
    "\n",
    "Let's see if you are able to use the filter function on facebook.edges to find how many people follow the \"Captain America Fan Page\"\n",
    "\n",
    "Hint: The destination will be the Captain America Fan Page's ID and the relationship has to be Follower."
   ]
  },
  {
   "cell_type": "code",
   "execution_count": null,
   "metadata": {
    "collapsed": false,
    "scrolled": true
   },
   "outputs": [],
   "source": [
    "// Type your code here"
   ]
  },
  {
   "cell_type": "markdown",
   "metadata": {},
   "source": [
    "Double-click __here__ for the solution.\n",
    "\n",
    "<!-- Your answer is below:\n",
    "facebook.edges.filter { case (relation) => relation.dstId == 5L && relation.attr == \"Follower\"}.count\n",
    "-->"
   ]
  },
  {
   "cell_type": "markdown",
   "metadata": {},
   "source": [
    "The answer should be 2! So now that you have gotten some insight into Vertices and Edges of the graph, you may think be thinking how can I visualize GraphX? Unfortunately, GraphX does not have any visualizations built-in, it is mainly a parallel graph processing library. The closest options we have to visualize the data is through views as we did above with Vertices and Edges.\n",
    "\n",
    "However, there is an easier way to create views, and that is with the EdgeTriplet class. This class contains information about the Edge and Vertex because of it logical join. We will discuss more later on, however here is a little taste of what EdgeTriplets can do."
   ]
  },
  {
   "cell_type": "code",
   "execution_count": null,
   "metadata": {
    "collapsed": false
   },
   "outputs": [],
   "source": [
    "val selected = facebook.triplets.filter { case (triplet) => triplet.srcAttr._1 == \"Billy Bill\"}.collect"
   ]
  },
  {
   "cell_type": "code",
   "execution_count": null,
   "metadata": {
    "collapsed": false
   },
   "outputs": [],
   "source": [
    "for (person <- selected) {\n",
    "    print(person.srcAttr._1)\n",
    "    print(\" is \")\n",
    "    print(person.attr)\n",
    "    print(\" with \")\n",
    "    println(person.dstAttr._1)\n",
    "}"
   ]
  },
  {
   "cell_type": "markdown",
   "metadata": {},
   "source": [
    "First we created a variable called selected which contained the collection of the information for Billy Bill. Then we cycled through a for loop of that collection and outputted Billy Bill's relationships and with whom. You are able to do much more with the EdgeTriplet class, but that will be discussed later. \n",
    "\n",
    "Note: You can access the \"selected\" variables by using the () and putting an index in between the brackets.\n",
    "\n",
    "Can you think of the possibilities of the EdgeTriplet class?"
   ]
  },
  {
   "cell_type": "markdown",
   "metadata": {},
   "source": [
    "Now with that lingering question in your mind, let's see if you can create another graph with the knowledge you have gained!\n",
    "\n",
    "This time, we will make a little more different, and it will just model \"real\" relationships between people. Let's pick some popular Simpson characters:\n",
    "\n",
    "- Homer Simpson -> VertexId = 1\n",
    "- Bart Simpson -> VertexId = 2\n",
    "- Marge Simpson -> VertexId = 3\n",
    "- Milhouse Houten -> VertexId = 4\n",
    "\n",
    "However, we are going to try to create an RDD vertex called characters all in one step! Let's see if you can combine the two steps we learned earlier!"
   ]
  },
  {
   "cell_type": "code",
   "execution_count": null,
   "metadata": {
    "collapsed": false
   },
   "outputs": [],
   "source": [
    "// Type your code here"
   ]
  },
  {
   "cell_type": "markdown",
   "metadata": {},
   "source": [
    "Double-click __here__ for the solution.\n",
    "\n",
    "<!-- Your answer is below:\n",
    "val characters: RDD[(VertexId, (String, String))] = sc.parallelize(Array((1L, (\"Homer Simpson\", \"Person\")), (2L, (\"Bart Simpson\", \"Person\")), (3L, (\"Marge Simpson\", \"Person\")), (4L, (\"Milhouse Houten\", \"Page\"))))\n",
    "-->"
   ]
  },
  {
   "cell_type": "markdown",
   "metadata": {},
   "source": [
    "Awesome! Now let's model some of their relationships (For simplicity sake we will only model a few):\n",
    "\n",
    "- Homer Simpson is the Father of Bart Simpson\n",
    "- Marge Simpson is the Wife of Homer Simpson\n",
    "- Bart Simpson is the Friend of Milhouse Houten\n",
    "\n",
    "We can also create an EdgeRDD variable called <code>simpson_relationships</code> in one step too! It is done similarly as the previous step, so if your stuck, take a look there!"
   ]
  },
  {
   "cell_type": "code",
   "execution_count": null,
   "metadata": {
    "collapsed": false
   },
   "outputs": [],
   "source": [
    "// Type your code here"
   ]
  },
  {
   "cell_type": "markdown",
   "metadata": {},
   "source": [
    "Double-click __here__ for the solution.\n",
    "\n",
    "<!-- Your answer is below:\n",
    "val simpson_relationships : RDD[Edge[String]] = sc.parallelize(Array(Edge(1L, 2L, \"Father\"), Edge(3L, 1L, \"Wife\"), Edge(2L, 4L, \"Friends\")))\n",
    "-->"
   ]
  },
  {
   "cell_type": "markdown",
   "metadata": {},
   "source": [
    "Now we will just reuse the defaultvertex variable as our \"fallback\" user. If you don't have this variable instantiated, then go ahead and scroll up to do so.\n",
    "\n",
    "Now let's create our graph with our Vertices (<code>characters</code>), Edges (<code>simpson_relationships</code>), and defaultvertex called <code>the_simpsons</code>."
   ]
  },
  {
   "cell_type": "code",
   "execution_count": null,
   "metadata": {
    "collapsed": false
   },
   "outputs": [],
   "source": [
    "// Type your code here"
   ]
  },
  {
   "cell_type": "markdown",
   "metadata": {},
   "source": [
    "Double-click __here__ for the solution.\n",
    "\n",
    "<!-- Your answer is below:\n",
    "val the_simpsons = Graph(characters, simpson_relationships, defaultvertex)\n",
    "-->"
   ]
  },
  {
   "cell_type": "markdown",
   "metadata": {},
   "source": [
    "Awesome! You have successfully created the_simpsons graph. Keep thinking about the EdgeTriplet class and let your curiosity guide you!\n",
    "\n",
    "You are now done with this exercise."
   ]
  },
  {
   "cell_type": "markdown",
   "metadata": {},
   "source": [
    "<div class=\"alert alert-block alert-info\" style=\"margin-top: 20px\">\n",
    "<h2>Get IBM Watson Studio free of charge!</h2>\n",
    "    <p><a href=\"https://cocl.us/exploring_spark_graphX\"><img src=\"https://s3-api.us-geo.objectstorage.softlayer.net/cf-courses-data/CognitiveClass/BD0223EN/Ad/BottomAd.png\" width=\"750\" align=\"center\"></a></p>\n",
    "</div>"
   ]
  }
 ],
 "metadata": {
  "kernelspec": {
   "display_name": "Apache Toree - Scala",
   "language": "scala",
   "name": "apache_toree_scala"
  },
  "language_info": {
   "codemirror_mode": "text/x-scala",
   "file_extension": ".scala",
   "mimetype": "text/x-scala",
   "name": "scala",
   "pygments_lexer": "scala",
   "version": "2.11.12"
  },
  "widgets": {
   "state": {},
   "version": "1.1.2"
  }
 },
 "nbformat": 4,
 "nbformat_minor": 2
}
